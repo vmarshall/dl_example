{
 "cells": [
  {
   "cell_type": "code",
   "execution_count": null,
   "metadata": {},
   "outputs": [],
   "source": [
    "# System Level\n",
    "import os\n",
    "from os import listdir,mkdir,rmdir\n",
    "from os.path import join,isdir,isfile\n",
    "import sys\n",
    "\n",
    "# File I/O\n",
    "import pydicom\n",
    "import imageio\n",
    "\n",
    "# Math\n",
    "import numpy as np\n",
    "\n",
    "# PyTorch\n",
    "import torch\n",
    "import torch.nn as nn\n",
    "import torch.nn.functional as F\n",
    "from torch.utils.data import Dataset,DataLoader\n",
    "from torchvision import transforms,utils\n",
    "from torchvision.transforms import functional as func\n",
    "\n",
    "# Visualization\n",
    "%matplotlib inline\n",
    "import matplotlib.pyplot as plt"
   ]
  },
  {
   "cell_type": "code",
   "execution_count": null,
   "metadata": {},
   "outputs": [],
   "source": []
  },
  {
   "cell_type": "code",
   "execution_count": null,
   "metadata": {},
   "outputs": [],
   "source": [
    "# Defining a Network: GoogLe Net\n",
    "# Theory of a nn.Module: init + foward\n",
    "sys.path.append('..')\n",
    "from nets.architectures import GoogLeNet"
   ]
  },
  {
   "cell_type": "code",
   "execution_count": null,
   "metadata": {},
   "outputs": [],
   "source": []
  },
  {
   "cell_type": "code",
   "execution_count": null,
   "metadata": {},
   "outputs": [],
   "source": [
    "# Create a wrapper that can:\n",
    "# - run a training iteration\n",
    "# - run a validation iteration\n",
    "# - save/load a model\n",
    "# - create optimizer\n",
    "from nets.wrapper import nnet_2d\n",
    "my_nnet = nnet_2d(in_chan=1, class_num=2, gpu=False)"
   ]
  },
  {
   "cell_type": "code",
   "execution_count": null,
   "metadata": {},
   "outputs": [],
   "source": []
  },
  {
   "cell_type": "code",
   "execution_count": null,
   "metadata": {},
   "outputs": [],
   "source": [
    "# Creating a data loader:\n",
    "# - creation of a dataset object\n",
    "# - parallel process reading data\n",
    "from utils.data_loaders import *\n",
    "my_data = example_data(path_data='/home/darvin',\n",
    "                       transform=transforms.Compose([\n",
    "                           RandomRotate(),\n",
    "                           RandomFlip(),\n",
    "                           ToTensor()\n",
    "                       ]))"
   ]
  },
  {
   "cell_type": "code",
   "execution_count": null,
   "metadata": {},
   "outputs": [],
   "source": []
  },
  {
   "cell_type": "code",
   "execution_count": null,
   "metadata": {},
   "outputs": [],
   "source": [
    "# Running a traning loop:\n",
    "bs = 4\n",
    "ep = 10\n",
    "loader = DataLoader(my_data, batch_size=bs, shuffle=True, num_workers=12)\n",
    "\n",
    "for ii in range(ep):\n",
    "    for sample in loader:\n",
    "        X,Y = sample['X'],sample['Y'].view(-1)\n",
    "        #my_nnet.train_one_iter(X.cuda(), Y.cuda())\n",
    "        print(my_nnet.train_one_iter(X, Y).detach().cpu().numpy())"
   ]
  },
  {
   "cell_type": "code",
   "execution_count": null,
   "metadata": {},
   "outputs": [],
   "source": [
    "X.size()"
   ]
  },
  {
   "cell_type": "code",
   "execution_count": null,
   "metadata": {},
   "outputs": [],
   "source": [
    "Y.size()"
   ]
  },
  {
   "cell_type": "code",
   "execution_count": null,
   "metadata": {},
   "outputs": [],
   "source": []
  }
 ],
 "metadata": {
  "kernelspec": {
   "display_name": "Python 3",
   "language": "python",
   "name": "python3"
  },
  "language_info": {
   "codemirror_mode": {
    "name": "ipython",
    "version": 3
   },
   "file_extension": ".py",
   "mimetype": "text/x-python",
   "name": "python",
   "nbconvert_exporter": "python",
   "pygments_lexer": "ipython3",
   "version": "3.7.3"
  }
 },
 "nbformat": 4,
 "nbformat_minor": 2
}
